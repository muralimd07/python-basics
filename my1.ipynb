{
 "cells": [
  {
   "cell_type": "code",
   "execution_count": null,
   "metadata": {},
   "outputs": [],
   "source": [
    "a=10\n",
    "print(a)\n",
    "a=40\n",
    "print(a)"
   ]
  },
  {
   "cell_type": "code",
   "execution_count": null,
   "metadata": {},
   "outputs": [],
   "source": []
  },
  {
   "cell_type": "code",
   "execution_count": null,
   "metadata": {},
   "outputs": [],
   "source": [
    "a=\"hello\"\n",
    "print(a)\n",
    "\n",
    "a=\"world\"\n",
    "\n",
    "print(a)"
   ]
  },
  {
   "cell_type": "code",
   "execution_count": null,
   "metadata": {},
   "outputs": [],
   "source": [
    "a=\"murali\"\n",
    "b='dharan'\n",
    "print(b)\n"
   ]
  },
  {
   "cell_type": "code",
   "execution_count": null,
   "metadata": {},
   "outputs": [],
   "source": [
    "#mulitiline\n",
    "m=\"\"\" this is multiline ?jjj\n",
    "    nice to use!!\n",
    "    md   dmsdmf\"\"\"\n",
    "\n",
    "s=\"\"\" my name is murali>>>>  \"\"\"\n",
    "\n",
    "print(m)\n",
    "print(s)"
   ]
  },
  {
   "cell_type": "code",
   "execution_count": null,
   "metadata": {},
   "outputs": [],
   "source": [
    "x=\"hii\"\n",
    "y=' \"murali\" '\n",
    "c=\"hello 'how are you' \"\n",
    "print(c)\n",
    "print(x)\n",
    "print(y)"
   ]
  },
  {
   "cell_type": "code",
   "execution_count": null,
   "metadata": {},
   "outputs": [],
   "source": [
    "#name address \n",
    "name=\"muralidharan\"\n",
    "names=\"muralidharan\"\n",
    "address=\"\"\"2 singer kovil   street srirangam\n",
    "     trichy\n",
    "     62000\n",
    "     6 \"\"\"\n",
    "print(name)\n",
    "print(address)\n"
   ]
  },
  {
   "cell_type": "code",
   "execution_count": null,
   "metadata": {},
   "outputs": [],
   "source": [
    "\n",
    "print(name.upper())\n",
    "\n",
    "\n"
   ]
  },
  {
   "cell_type": "code",
   "execution_count": null,
   "metadata": {},
   "outputs": [],
   "source": [
    "name.capitalize()"
   ]
  },
  {
   "cell_type": "code",
   "execution_count": null,
   "metadata": {},
   "outputs": [],
   "source": [
    "md=\"MURALI\"\n",
    "\"THIS WILL BE CHANGE\".lower()\n",
    "print(\"MD\".lower())"
   ]
  },
  {
   "cell_type": "code",
   "execution_count": null,
   "metadata": {},
   "outputs": [],
   "source": [
    "names=\"murali\"\n",
    "name=\"murali\"\n",
    "id(name)"
   ]
  },
  {
   "cell_type": "code",
   "execution_count": null,
   "metadata": {},
   "outputs": [],
   "source": [
    "id(names)"
   ]
  },
  {
   "cell_type": "code",
   "execution_count": null,
   "metadata": {},
   "outputs": [],
   "source": [
    "string=\"welcome to python!!!\"\n",
    "\n",
    "\n",
    "string[-1],string[1],string[2],string[17]\n",
    "\n",
    "\n"
   ]
  },
  {
   "cell_type": "code",
   "execution_count": null,
   "metadata": {},
   "outputs": [],
   "source": [
    "#integer\n",
    "a=10\n",
    "b=10\n",
    "print(id(a),id(b))"
   ]
  },
  {
   "cell_type": "code",
   "execution_count": null,
   "metadata": {},
   "outputs": [],
   "source": [
    "#float\n",
    "c=1.5\n",
    "d=1.5\n",
    "print(id(c),id(d))"
   ]
  },
  {
   "cell_type": "code",
   "execution_count": null,
   "metadata": {},
   "outputs": [],
   "source": [
    "c=.1+.1+.1-.3\n",
    "d=0.1+0.1+0.1-0.3\n",
    "print(d)\n",
    "print(c)"
   ]
  },
  {
   "cell_type": "code",
   "execution_count": null,
   "metadata": {},
   "outputs": [],
   "source": [
    "#impport decimal library\n",
    "#from decimal import *\n",
    "\n",
    "\n",
    "from decimal import *\n",
    "\n",
    "m=Decimal(\"0.1\")\n",
    "s=Decimal(\"0.3\")\n",
    "d=m+m+m-s\n",
    "print(str(d))\n",
    "\n",
    "a= Decimal('0.1')\n",
    "b=Decimal('0.3')\n",
    "c=a+a+a-b\n",
    "print(f\"the result is {c}\")\n",
    "print(\"res\"+str(c))\n",
    "\n",
    "\n"
   ]
  },
  {
   "cell_type": "code",
   "execution_count": null,
   "metadata": {},
   "outputs": [],
   "source": [
    "#complex number\n",
    "\n",
    "t=5+2j\n",
    "s=5+5j\n",
    "r=2+4j\n",
    "\n",
    "print(t+s+r)"
   ]
  },
  {
   "cell_type": "code",
   "execution_count": null,
   "metadata": {},
   "outputs": [],
   "source": [
    "#boolean\n",
    "\n",
    "x=10\n",
    "y=20.1\n",
    "print(x<y)"
   ]
  },
  {
   "cell_type": "code",
   "execution_count": null,
   "metadata": {},
   "outputs": [],
   "source": [
    "z=True\n",
    "n=None\n",
    "s=\"\"\n",
    "type(z)"
   ]
  },
  {
   "cell_type": "code",
   "execution_count": null,
   "metadata": {},
   "outputs": [],
   "source": [
    "pi=\"3.14\"\n",
    "type(pi)\n"
   ]
  },
  {
   "cell_type": "code",
   "execution_count": null,
   "metadata": {},
   "outputs": [],
   "source": [
    "#swapping two numbers \n",
    "\n",
    "a=5\n",
    "b=10\n",
    "\n",
    "c=a\n",
    "b=a\n",
    "\n",
    "\n",
    "print(a,b)"
   ]
  },
  {
   "cell_type": "code",
   "execution_count": null,
   "metadata": {},
   "outputs": [],
   "source": [
    "#killo metres to miles\n",
    "\n",
    "a=2\n",
    "\n",
    "print(c)\n"
   ]
  },
  {
   "cell_type": "code",
   "execution_count": null,
   "metadata": {},
   "outputs": [],
   "source": [
    "#triangle\n",
    "\n",
    "b=4\n",
    "h=5\n",
    "\n",
    "c=1/2*b*h\n",
    "print(c)"
   ]
  },
  {
   "cell_type": "code",
   "execution_count": null,
   "metadata": {},
   "outputs": [],
   "source": [
    "#no temp variable for swap\n",
    "\n",
    "a=5\n",
    "b=10\n",
    "\n",
    "a=a+b\n",
    "b=a-b\n",
    "a=a-b\n",
    "\n",
    "\n",
    "print(a,b)"
   ]
  },
  {
   "cell_type": "code",
   "execution_count": null,
   "metadata": {},
   "outputs": [],
   "source": []
  },
  {
   "cell_type": "code",
   "execution_count": null,
   "metadata": {},
   "outputs": [],
   "source": [
    "a=5\n",
    "b=10\n",
    "\n",
    "a=a^b\n",
    "b=a^b\n",
    "a=a^b\n",
    "\n",
    "\n",
    "print(a,b)"
   ]
  },
  {
   "cell_type": "code",
   "execution_count": null,
   "metadata": {},
   "outputs": [],
   "source": [
    "#odd or even\n",
    "a=11\n",
    "if a%2==0:\n",
    "    print(\"even\")\n",
    "else:\n",
    "    print(\"odd\")"
   ]
  },
  {
   "cell_type": "code",
   "execution_count": null,
   "metadata": {},
   "outputs": [],
   "source": [
    "#fizz buzz\n",
    "\n",
    "\n",
    "if(a%3==0 and a%5==0):\n",
    "    print(\"fizz buzz\")\n",
    "elif(a%3==0):\n",
    "    print(\"fizz\")\n",
    "elif(a%5==0):\n",
    "     print(\"buzz\")\n",
    "else:\n",
    "     print(\"none\")"
   ]
  },
  {
   "cell_type": "code",
   "execution_count": null,
   "metadata": {},
   "outputs": [],
   "source": [
    "#ternary operator\n",
    "\n",
    "mark=50\n",
    "result=\"pass\" if(mark>50) else \"fail\"\n",
    "\n",
    "print(\"mark:{}\".format(mark))\n",
    "print(\"result:{}\".format(result))"
   ]
  },
  {
   "cell_type": "code",
   "execution_count": null,
   "metadata": {},
   "outputs": [],
   "source": [
    "mark=20\n",
    "result=\"pass\" if(mark>=50) else \"fail\"\n",
    "print(\"mark:{} result:{}\".format(mark,result))"
   ]
  },
  {
   "cell_type": "code",
   "execution_count": null,
   "metadata": {},
   "outputs": [],
   "source": [
    "#odd or even  \n",
    "\n",
    "a=10\n",
    "if(a%2==0):\n",
    "    print(\"even\")\n",
    "else:\n",
    "    print(\"odd\")"
   ]
  },
  {
   "cell_type": "code",
   "execution_count": null,
   "metadata": {},
   "outputs": [],
   "source": [
    "#while loop\n",
    "value=0\n",
    "while(value<10):\n",
    "    print(value)\n",
    "    #value++ not valid\n",
    "    #value=value+1\n",
    "    value+=1"
   ]
  },
  {
   "cell_type": "code",
   "execution_count": 2,
   "metadata": {},
   "outputs": [
    {
     "name": "stdout",
     "output_type": "stream",
     "text": [
      "enter the passwordm\n",
      "enter the passwordmurali\n",
      "password correct!! \n",
      "welcome\n"
     ]
    }
   ],
   "source": [
    "password=\"murali\"\n",
    "pwd=''\n",
    "while pwd!=password:\n",
    "    pwd=input(\"enter the password\")\n",
    "print(\"password correct!! \\nwelcome\")"
   ]
  },
  {
   "cell_type": "code",
   "execution_count": 5,
   "metadata": {},
   "outputs": [
    {
     "name": "stdout",
     "output_type": "stream",
     "text": [
      "sun\n",
      "mon\n",
      "tue\n",
      "wed\n",
      "thu\n",
      "fri\n",
      "sar\n"
     ]
    }
   ],
   "source": [
    "#for loop\n",
    "\n",
    "days=['sun','mon','tue','wed','thu','fri','sar']\n",
    "\n",
    "for d in days:\n",
    "    \n",
    "    print(d)\n",
    "\n"
   ]
  },
  {
   "cell_type": "code",
   "execution_count": 6,
   "metadata": {},
   "outputs": [
    {
     "data": {
      "text/plain": [
       "range(0, 20)"
      ]
     },
     "execution_count": 6,
     "metadata": {},
     "output_type": "execute_result"
    }
   ],
   "source": [
    "range(20)"
   ]
  },
  {
   "cell_type": "code",
   "execution_count": 9,
   "metadata": {},
   "outputs": [
    {
     "data": {
      "text/plain": [
       "[0, 1, 2, 3, 4, 5, 6, 7, 8, 9, 10, 11, 12, 13, 14, 15, 16, 17, 18, 19]"
      ]
     },
     "execution_count": 9,
     "metadata": {},
     "output_type": "execute_result"
    }
   ],
   "source": [
    "list(range(20))"
   ]
  },
  {
   "cell_type": "code",
   "execution_count": 17,
   "metadata": {},
   "outputs": [
    {
     "name": "stdout",
     "output_type": "stream",
     "text": [
      "1\n",
      "2\n",
      "3\n",
      "4\n",
      "5\n",
      "6\n",
      "7\n",
      "8\n",
      "9\n"
     ]
    }
   ],
   "source": [
    "\n",
    "for x in range(1,10):\n",
    "    print(x)\n"
   ]
  },
  {
   "cell_type": "code",
   "execution_count": 18,
   "metadata": {},
   "outputs": [
    {
     "data": {
      "text/plain": [
       "[2, 4, 6, 8, 10, 12, 14, 16, 18]"
      ]
     },
     "execution_count": 18,
     "metadata": {},
     "output_type": "execute_result"
    }
   ],
   "source": [
    "#list range\n",
    "list(range(2,20,2))\n"
   ]
  },
  {
   "cell_type": "code",
   "execution_count": 19,
   "metadata": {},
   "outputs": [
    {
     "name": "stdout",
     "output_type": "stream",
     "text": [
      "[5, 10, 15, 20, 25, 30, 35, 40, 45, 50, 55, 60, 65, 70, 75, 80, 85, 90, 95, 100]\n"
     ]
    }
   ],
   "source": [
    "print(list(range(5,105,5)))\n"
   ]
  },
  {
   "cell_type": "code",
   "execution_count": 20,
   "metadata": {},
   "outputs": [
    {
     "name": "stdout",
     "output_type": "stream",
     "text": [
      "1\n",
      "2\n",
      "3\n",
      "4\n",
      "5\n",
      "6\n",
      "7\n",
      "8\n",
      "9\n",
      "10\n"
     ]
    }
   ],
   "source": [
    "n=10\n",
    "for x in range(1,n+1):\n",
    "    print(x)\n",
    "    "
   ]
  },
  {
   "cell_type": "code",
   "execution_count": 23,
   "metadata": {},
   "outputs": [
    {
     "name": "stdout",
     "output_type": "stream",
     "text": [
      "0----->sun\n",
      "1----->mon\n",
      "2----->tue\n",
      "3----->wed\n",
      "4----->thu\n",
      "5----->fri\n",
      "6----->sar\n"
     ]
    }
   ],
   "source": [
    "for index,data in enumerate(days):\n",
    "    print(\"{}----->{}\".format(index,data))\n",
    "   \n",
    "    \n"
   ]
  },
  {
   "cell_type": "code",
   "execution_count": 24,
   "metadata": {},
   "outputs": [
    {
     "name": "stdout",
     "output_type": "stream",
     "text": [
      "attempt 1 : enter your password:m\n",
      "attempt 2 : enter your password:m\n",
      "attempt 3 : enter your password:m\n",
      "attempt 4 : enter your password:m\n",
      "attempt 5 : enter your password:m\n",
      "unauthorized....\n"
     ]
    }
   ],
   "source": [
    "password=\"python\"\n",
    "pwd=''\n",
    "count=0\n",
    "\n",
    "while pwd!=password:\n",
    "    if count==5:\n",
    "        break\n",
    "    count+=1\n",
    "    pwd=input(\"attempt {} : enter your password:\".format(count))\n",
    "\n",
    "if(pwd==password):\n",
    "    print(\"authorized..\\nwelcome\")\n",
    "else:\n",
    "    print(\"unauthorized....\")\n",
    "    "
   ]
  },
  {
   "cell_type": "code",
   "execution_count": null,
   "metadata": {},
   "outputs": [],
   "source": [
    "password=\"python\"\n",
    "pwd=''\n",
    "count=0\n",
    "auth=False\n",
    "\n",
    "while pwd!=password:\n",
    "    if count==5:\n",
    "        break\n",
    "    count+=1\n",
    "    pwd=input(f\"attempt {count}:enter your password: \")\n",
    "else:\n",
    "    auth=True\n",
    "    \n",
    "print(\"authorized...\\nwelcome\") if auth else print(\"unauthorized....\")\n",
    "    "
   ]
  },
  {
   "cell_type": "code",
   "execution_count": 29,
   "metadata": {},
   "outputs": [
    {
     "name": "stdout",
     "output_type": "stream",
     "text": [
      "dog\n",
      "dog\n",
      "lion\n",
      "tiger\n"
     ]
    }
   ],
   "source": [
    "animals=['dog','dog','lion','fish','tiger']\n",
    "\n",
    "for animal in animals:\n",
    "    if(animal=='fish'):\n",
    "        continue\n",
    "        \n",
    "        \n",
    "    if(animal=='parrot'):\n",
    "        print(\"error existing we have a bird\")\n",
    "        break\n",
    "        \n",
    "    print(animal)"
   ]
  },
  {
   "cell_type": "code",
   "execution_count": 30,
   "metadata": {},
   "outputs": [
    {
     "name": "stdout",
     "output_type": "stream",
     "text": [
      "SUNDAY (:\n",
      "I hate monday\n",
      "wed\n",
      "thu\n",
      "fri\n",
      "sat\n"
     ]
    }
   ],
   "source": [
    "days=['sun','mon','tue','wed','thu','fri','sat']\n",
    "\n",
    "for d in days:\n",
    "    if(d=='sun'):\n",
    "        print(\"SUNDAY (:\")\n",
    "        continue\n",
    "    elif(d=='mon'):\n",
    "        print(\"I hate monday\")\n",
    "        continue\n",
    "    elif(d=='tue'):\n",
    "        continue\n",
    "    print(d)\n",
    "    \n",
    "    \n",
    "    \n",
    "        \n",
    "\n",
    "    "
   ]
  },
  {
   "cell_type": "code",
   "execution_count": 31,
   "metadata": {},
   "outputs": [
    {
     "name": "stdout",
     "output_type": "stream",
     "text": [
      "2.5\n",
      "2\n"
     ]
    }
   ],
   "source": [
    "##integer division\n",
    "\n",
    "print(5/2)\n",
    "print(5//2)"
   ]
  },
  {
   "cell_type": "code",
   "execution_count": 32,
   "metadata": {},
   "outputs": [
    {
     "name": "stdout",
     "output_type": "stream",
     "text": [
      "11\n",
      "6\n",
      "12\n",
      "4.0\n"
     ]
    }
   ],
   "source": [
    "#increment decrement\n",
    "num=10\n",
    "num+=1\n",
    "print(num)\n",
    "\n",
    "num-=5\n",
    "print(num)\n",
    "\n",
    "num*=2\n",
    "print(num)\n",
    "\n",
    "num/=3\n",
    "print(num)\n",
    "\n",
    "#num++ not valid"
   ]
  },
  {
   "cell_type": "code",
   "execution_count": 34,
   "metadata": {},
   "outputs": [],
   "source": [
    "#bitwise\n",
    "a=10\n",
    "#1010\n",
    "b=7\n",
    "#0111"
   ]
  },
  {
   "cell_type": "code",
   "execution_count": 35,
   "metadata": {},
   "outputs": [
    {
     "name": "stdout",
     "output_type": "stream",
     "text": [
      "2\n",
      "15\n",
      "13\n",
      "2\n"
     ]
    }
   ],
   "source": [
    "print(a&b)\n",
    "print(a|b)\n",
    "print(a^b)\n",
    "print(a>>2) "
   ]
  },
  {
   "cell_type": "code",
   "execution_count": 36,
   "metadata": {},
   "outputs": [
    {
     "name": "stdout",
     "output_type": "stream",
     "text": [
      "6258592 6258592\n"
     ]
    },
    {
     "data": {
      "text/plain": [
       "True"
      ]
     },
     "execution_count": 36,
     "metadata": {},
     "output_type": "execute_result"
    }
   ],
   "source": [
    "a=\"\"\"string\"\"\"\n",
    "b=\"string\"\n",
    "print(id(a),id(b))\n",
    "a is b"
   ]
  },
  {
   "cell_type": "code",
   "execution_count": 38,
   "metadata": {},
   "outputs": [
    {
     "name": "stdout",
     "output_type": "stream",
     "text": [
      "78261104 78260912\n",
      "False\n",
      "True\n"
     ]
    }
   ],
   "source": [
    "a=10.1\n",
    "b=10.1\n",
    "\n",
    "print(id(a),id(b))\n",
    "print(a is b)\n",
    "print(a==b)"
   ]
  },
  {
   "cell_type": "code",
   "execution_count": 39,
   "metadata": {},
   "outputs": [
    {
     "name": "stdout",
     "output_type": "stream",
     "text": [
      "iphone 7 is lightest weight:\n"
     ]
    }
   ],
   "source": [
    "#operator chaining\n",
    "\n",
    "i7=138\n",
    "i8=188\n",
    "i9=192\n",
    "\n",
    "if(i7<i8 and i7<i9):\n",
    "    print(\"iphone 7 is lightest weight:\")"
   ]
  },
  {
   "cell_type": "code",
   "execution_count": null,
   "metadata": {},
   "outputs": [],
   "source": [
    "n=2002\n",
    "\n",
    "if(n%4==0):\n",
    "    print(\"leap year\")\n",
    "else:\n",
    "    print(\"not leap year\")"
   ]
  },
  {
   "cell_type": "code",
   "execution_count": null,
   "metadata": {},
   "outputs": [],
   "source": [
    "a=6\n",
    "if(a<0):\n",
    "    print(\"negative number\")\n",
    "elif(a==0):\n",
    "    print(\"zero\")\n",
    "elif(a>0):\n",
    "    print(\"positve number\")"
   ]
  },
  {
   "cell_type": "code",
   "execution_count": null,
   "metadata": {},
   "outputs": [],
   "source": [
    "#print multiples of 2 using range\n",
    "n=20\n",
    "\n",
    "list(range(2,n+1,2))\n"
   ]
  },
  {
   "cell_type": "code",
   "execution_count": null,
   "metadata": {},
   "outputs": [],
   "source": [
    "#print multiples of 5 using range starting from 10 ending in 100\n",
    "n=100\n",
    "\n",
    "\n",
    "list(range(10,n+1,5))\n"
   ]
  },
  {
   "cell_type": "code",
   "execution_count": null,
   "metadata": {},
   "outputs": [],
   "source": [
    "e=20\n",
    "for i in range(1,e+1):\n",
    "    print(i*5)\n",
    "    "
   ]
  },
  {
   "cell_type": "code",
   "execution_count": null,
   "metadata": {},
   "outputs": [],
   "source": [
    "ds=['sun','mon','tue','wed','thu','fri','sar']\n",
    "\n",
    "for d in ds:\n",
    "    if(d==\"mon\"):\n",
    "        print(\"I Hate Monday\")\n",
    "        continue\n",
    "    elif(d==\"sun\"):\n",
    "        print(\"SUNDAY :)\")\n",
    "        continue\n",
    "    elif(d==\"tue\"):\n",
    "        continue\n",
    "    print(d)"
   ]
  },
  {
   "cell_type": "code",
   "execution_count": null,
   "metadata": {},
   "outputs": [],
   "source": [
    "#while\n",
    "\n",
    "count=0\n",
    "while True:\n",
    "    print(\"hello\")\n",
    "    count+=1\n",
    "    if(count==5):\n",
    "        break\n",
    "    "
   ]
  }
 ],
 "metadata": {
  "kernelspec": {
   "display_name": "Python 3",
   "language": "python",
   "name": "python3"
  },
  "language_info": {
   "codemirror_mode": {
    "name": "ipython",
    "version": 3
   },
   "file_extension": ".py",
   "mimetype": "text/x-python",
   "name": "python",
   "nbconvert_exporter": "python",
   "pygments_lexer": "ipython3",
   "version": "3.7.3"
  }
 },
 "nbformat": 4,
 "nbformat_minor": 2
}
