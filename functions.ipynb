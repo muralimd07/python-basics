{
 "cells": [
  {
   "cell_type": "code",
   "execution_count": 1,
   "metadata": {},
   "outputs": [
    {
     "name": "stdout",
     "output_type": "stream",
     "text": [
      "hi\n"
     ]
    }
   ],
   "source": [
    "#function\n",
    "#usual functions\n",
    "\n",
    "f=10\n",
    "def func():\n",
    "    f=\"hi\"\n",
    "    print(f)\n",
    "\n",
    "func()\n"
   ]
  },
  {
   "cell_type": "code",
   "execution_count": 4,
   "metadata": {},
   "outputs": [
    {
     "name": "stdout",
     "output_type": "stream",
     "text": [
      "hi\n",
      "10\n"
     ]
    }
   ],
   "source": [
    "#global vs local variable\n",
    "\n",
    "f=10\n",
    "def func():\n",
    "    f=\"hi\"\n",
    "    print(f)\n",
    "func()\n",
    "print(f)"
   ]
  },
  {
   "cell_type": "code",
   "execution_count": 3,
   "metadata": {},
   "outputs": [
    {
     "name": "stdout",
     "output_type": "stream",
     "text": [
      "10 hi\n"
     ]
    }
   ],
   "source": [
    "f=10\n",
    "def func():\n",
    "    \n",
    "    s=\"hi\"\n",
    "    print(f,s)\n",
    "func()\n"
   ]
  },
  {
   "cell_type": "code",
   "execution_count": 5,
   "metadata": {},
   "outputs": [
    {
     "name": "stdout",
     "output_type": "stream",
     "text": [
      "7\n"
     ]
    }
   ],
   "source": [
    "#with parameter\n",
    "def sum1(a,b):\n",
    "    c=a+b\n",
    "    return c\n",
    "x=2\n",
    "y=5\n",
    "z=sum1(x,y)\n",
    "print(z)"
   ]
  },
  {
   "cell_type": "code",
   "execution_count": 22,
   "metadata": {},
   "outputs": [
    {
     "name": "stdout",
     "output_type": "stream",
     "text": [
      "25\n",
      "10\n",
      "49\n"
     ]
    }
   ],
   "source": [
    "def power(n,x=1):\n",
    "    return n**x\n",
    "print(power(5,2))\n",
    "print(power(10))\n",
    "print(power(x=2,n=7))"
   ]
  },
  {
   "cell_type": "code",
   "execution_count": 25,
   "metadata": {},
   "outputs": [
    {
     "name": "stdout",
     "output_type": "stream",
     "text": [
      "10\n",
      "39\n",
      "4\n"
     ]
    }
   ],
   "source": [
    "def multi(*args):\n",
    "    result=0\n",
    "    for i in args:\n",
    "        result+=i\n",
    "    return result\n",
    "\n",
    "print(multi(1,2,3,4))\n",
    "print(multi(9,8,7,6,5,4))\n",
    "print(multi(4))"
   ]
  },
  {
   "cell_type": "code",
   "execution_count": 20,
   "metadata": {},
   "outputs": [],
   "source": [
    "#write 3 functions to find if the given number is armstrong,prime and odd\n",
    "\n",
    "# generate 10 random three digits numbers\n",
    "\n",
    "#pass each number to the functions and display theire status accordingly"
   ]
  },
  {
   "cell_type": "code",
   "execution_count": 14,
   "metadata": {},
   "outputs": [
    {
     "name": "stdout",
     "output_type": "stream",
     "text": [
      "15\n",
      "not prime\n",
      "odd\n",
      "is not armstrong\n"
     ]
    }
   ],
   "source": [
    "\n",
    "    \n",
    "n=15\n",
    "\n",
    "def arms(n):\n",
    "    temp=n\n",
    "    sum=0\n",
    "    m=len(str(n))\n",
    "    while(n>0):\n",
    "        dig=n%10\n",
    "        sum=sum+(dig**m)\n",
    "        n//=10\n",
    "    if(temp==sum):\n",
    "        print(\"is armstrong\")\n",
    "    else:\n",
    "        print(\"is not armstrong\")\n",
    "\n",
    "\n",
    "def prime(n):\n",
    "    \n",
    "    for i in range(2,n+1):\n",
    "        if (n%i==0):\n",
    "            print(\"prime\")\n",
    "        else:\n",
    "            print(\"not prime\")\n",
    "        break\n",
    "        \n",
    "def odd(n):\n",
    "    if (n%2==0):\n",
    "        print(\"even\")\n",
    "    else:\n",
    "        print(\"odd\")\n",
    "\n",
    "        \n",
    "print(n)       \n",
    "prime(n) \n",
    "odd(n)\n",
    "arms(n)\n",
    "    "
   ]
  },
  {
   "cell_type": "code",
   "execution_count": 12,
   "metadata": {},
   "outputs": [
    {
     "name": "stdout",
     "output_type": "stream",
     "text": [
      "[727, 324, 784, 708, 761, 702, 682, 781, 141, 314]\n"
     ]
    }
   ],
   "source": [
    "import random \n",
    "\n",
    "a=[]\n",
    "\n",
    "for i in range(10):\n",
    "    x=random.randint(100,999)\n",
    "    a.append(x)\n",
    "    \n",
    "print(a)\n",
    "\n",
    "\n"
   ]
  },
  {
   "cell_type": "code",
   "execution_count": 15,
   "metadata": {},
   "outputs": [
    {
     "name": "stdout",
     "output_type": "stream",
     "text": [
      "727\n",
      "is not armstrong\n",
      "not prime\n",
      "odd\n",
      "324\n",
      "is not armstrong\n",
      "prime\n",
      "even\n",
      "784\n",
      "is not armstrong\n",
      "prime\n",
      "even\n",
      "708\n",
      "is not armstrong\n",
      "prime\n",
      "even\n",
      "761\n",
      "is not armstrong\n",
      "not prime\n",
      "odd\n",
      "702\n",
      "is not armstrong\n",
      "prime\n",
      "even\n",
      "682\n",
      "is not armstrong\n",
      "prime\n",
      "even\n",
      "781\n",
      "is not armstrong\n",
      "not prime\n",
      "odd\n",
      "141\n",
      "is not armstrong\n",
      "not prime\n",
      "odd\n",
      "314\n",
      "is not armstrong\n",
      "prime\n",
      "even\n"
     ]
    }
   ],
   "source": [
    "def flow():\n",
    "    for i in a:\n",
    "        print(i)\n",
    "        arms(i)\n",
    "        prime(i)\n",
    "        odd(i)\n",
    "flow()\n",
    "\n"
   ]
  },
  {
   "cell_type": "code",
   "execution_count": 17,
   "metadata": {},
   "outputs": [
    {
     "name": "stdout",
     "output_type": "stream",
     "text": [
      "10\n",
      "20\n",
      "30\n",
      "1020 30 10\n",
      "rearragnged 10 1020 30\n"
     ]
    }
   ],
   "source": [
    "#tricks in python\n",
    "\n",
    "a,b,c=10,20,30\n",
    "print(a)\n",
    "print(b)\n",
    "print(c)\n",
    "\n",
    "a,b,c=1020,30,10\n",
    "print(a,b,c)\n",
    "a,b,c=c,a,b\n",
    "print(\"rearragnged\",a,b,c)"
   ]
  },
  {
   "cell_type": "code",
   "execution_count": 81,
   "metadata": {},
   "outputs": [
    {
     "name": "stdout",
     "output_type": "stream",
     "text": [
      "20 10\n",
      "10 20\n"
     ]
    }
   ],
   "source": [
    "print(a,b)\n",
    "a,b=b,a\n",
    "print(a,b)"
   ]
  },
  {
   "cell_type": "code",
   "execution_count": 3,
   "metadata": {},
   "outputs": [
    {
     "name": "stdout",
     "output_type": "stream",
     "text": [
      "0\n",
      "1\n",
      "1\n",
      "2\n",
      "3\n",
      "5\n",
      "8\n",
      "13\n",
      "21\n",
      "34\n",
      "55\n"
     ]
    }
   ],
   "source": [
    "l=[]\n",
    "a,b=0,1\n",
    "print(a)\n",
    "for _ in range(10):\n",
    "    print(b)\n",
    "    a,b=b,b+a\n",
    "\n",
    "\n",
    "    \n",
    "    \n"
   ]
  },
  {
   "cell_type": "code",
   "execution_count": 18,
   "metadata": {},
   "outputs": [
    {
     "name": "stdout",
     "output_type": "stream",
     "text": [
      "2019-12-05\n",
      "16275 days, 0:00:00\n"
     ]
    }
   ],
   "source": [
    "#date and time\n",
    "\n",
    "from datetime import date\n",
    "\n",
    "now=date.today()\n",
    "print(now)\n",
    "birthday=date(1975,5,15)\n",
    "age=now-birthday\n",
    "print(age)\n",
    "\n"
   ]
  },
  {
   "cell_type": "code",
   "execution_count": 21,
   "metadata": {},
   "outputs": [
    {
     "name": "stdout",
     "output_type": "stream",
     "text": [
      "2019-12-05\n",
      "6759 days, 0:00:00\n"
     ]
    }
   ],
   "source": [
    "import datetime\n",
    "\n",
    "now=datetime.date.today()\n",
    "print(now)\n",
    "birthday=datetime.date(2001,6,3)\n",
    "age=now-birthday\n",
    "print(age)\n",
    "\n",
    "\n"
   ]
  },
  {
   "cell_type": "code",
   "execution_count": 5,
   "metadata": {},
   "outputs": [],
   "source": [
    "#dir(age)"
   ]
  },
  {
   "cell_type": "code",
   "execution_count": 97,
   "metadata": {},
   "outputs": [
    {
     "data": {
      "text/plain": [
       "7999"
      ]
     },
     "execution_count": 97,
     "metadata": {},
     "output_type": "execute_result"
    }
   ],
   "source": [
    "age.days"
   ]
  },
  {
   "cell_type": "code",
   "execution_count": 4,
   "metadata": {},
   "outputs": [
    {
     "data": {
      "text/plain": [
       "18.50958904109589"
      ]
     },
     "execution_count": 4,
     "metadata": {},
     "output_type": "execute_result"
    }
   ],
   "source": [
    "age.days/365"
   ]
  },
  {
   "cell_type": "code",
   "execution_count": 102,
   "metadata": {},
   "outputs": [
    {
     "name": "stdout",
     "output_type": "stream",
     "text": [
      "raj is elder\n"
     ]
    }
   ],
   "source": [
    "ram=date(1987,4,29)\n",
    "raj=date(1986,6,22)\n",
    "if(ram>raj):\n",
    "    print(\"raj is elder\")\n",
    "else:\n",
    "    print(\"ram is elder\")\n",
    "    \n"
   ]
  },
  {
   "cell_type": "code",
   "execution_count": 104,
   "metadata": {},
   "outputs": [
    {
     "name": "stdout",
     "output_type": "stream",
     "text": [
      "raj is elder\n",
      "0.0010025501251220703\n"
     ]
    }
   ],
   "source": [
    "from time import time\n",
    "start=time()\n",
    "ram=date(1987,4,29)\n",
    "raj=date(1986,6,22)\n",
    "if(ram>raj):\n",
    "    print(\"raj is elder\")\n",
    "else:\n",
    "    print(\"ram is elder\")\n",
    "end=time()\n",
    "print(end-start)"
   ]
  },
  {
   "cell_type": "code",
   "execution_count": 106,
   "metadata": {},
   "outputs": [
    {
     "data": {
      "text/plain": [
       "1575269910.2703748"
      ]
     },
     "execution_count": 106,
     "metadata": {},
     "output_type": "execute_result"
    }
   ],
   "source": [
    "time()"
   ]
  },
  {
   "cell_type": "code",
   "execution_count": 108,
   "metadata": {},
   "outputs": [
    {
     "data": {
      "text/plain": [
       "datetime.datetime(2019, 12, 2, 6, 59, 9, 961881)"
      ]
     },
     "execution_count": 108,
     "metadata": {},
     "output_type": "execute_result"
    }
   ],
   "source": [
    "from datetime import datetime\n",
    "datetime.utcnow()"
   ]
  },
  {
   "cell_type": "code",
   "execution_count": 32,
   "metadata": {},
   "outputs": [
    {
     "name": "stdout",
     "output_type": "stream",
     "text": [
      "1987-04-29\n",
      "29-04-87 00:00:00\n",
      "1987-04-29\n",
      "29/04/1987\n"
     ]
    }
   ],
   "source": [
    "#date object ot string\n",
    "ram=date(1987,4,29)\n",
    "print(ram)\n",
    "print(ram.strftime(\"%d-%m-%y %H:%M:%S\"))\n",
    "\n",
    "ram=date(1987,4,29)\n",
    "print(ram)\n",
    "print(ram.strftime(\"%d/%m/%Y\"))"
   ]
  },
  {
   "cell_type": "code",
   "execution_count": 17,
   "metadata": {},
   "outputs": [
    {
     "ename": "ModuleNotFoundError",
     "evalue": "No module named 'Ipython'",
     "output_type": "error",
     "traceback": [
      "\u001b[1;31m---------------------------------------------------------------------------\u001b[0m",
      "\u001b[1;31mModuleNotFoundError\u001b[0m                       Traceback (most recent call last)",
      "\u001b[1;32m<ipython-input-17-e79a5f80709b>\u001b[0m in \u001b[0;36m<module>\u001b[1;34m\u001b[0m\n\u001b[0;32m      2\u001b[0m \u001b[1;31m#Iframe(\"url\" width='100%',height=250%)\u001b[0m\u001b[1;33m\u001b[0m\u001b[1;33m\u001b[0m\u001b[1;33m\u001b[0m\u001b[0m\n\u001b[0;32m      3\u001b[0m \u001b[1;33m\u001b[0m\u001b[0m\n\u001b[1;32m----> 4\u001b[1;33m \u001b[1;32mfrom\u001b[0m \u001b[0mIpython\u001b[0m\u001b[1;33m.\u001b[0m\u001b[0mdisplay\u001b[0m \u001b[1;32mimport\u001b[0m \u001b[0mIFrame\u001b[0m\u001b[1;33m\u001b[0m\u001b[1;33m\u001b[0m\u001b[0m\n\u001b[0m\u001b[0;32m      5\u001b[0m \u001b[0mIFrame\u001b[0m\u001b[1;33m(\u001b[0m\u001b[1;34m\"https://www.w3schools.com/python/showpython.asp?filename=demo_function_param2\"\u001b[0m \u001b[1;33m,\u001b[0m\u001b[0mwidth\u001b[0m\u001b[1;33m=\u001b[0m\u001b[1;34m'100%'\u001b[0m\u001b[1;33m,\u001b[0m\u001b[0mheight\u001b[0m\u001b[1;33m=\u001b[0m\u001b[1;36m250\u001b[0m \u001b[1;33m)\u001b[0m\u001b[1;33m\u001b[0m\u001b[1;33m\u001b[0m\u001b[0m\n",
      "\u001b[1;31mModuleNotFoundError\u001b[0m: No module named 'Ipython'"
     ]
    }
   ],
   "source": [
    "#from Ipython.display import IFrame\n",
    "#Iframe(\"url\" width='100%',height=250%)\n",
    "\n",
    "from Ipython.display import IFrame\n",
    "IFrame(\"https://www.w3schools.com/python/showpython.asp?filename=demo_function_param2\" ,width='100%',height=250 )"
   ]
  },
  {
   "cell_type": "code",
   "execution_count": 129,
   "metadata": {},
   "outputs": [
    {
     "name": "stdout",
     "output_type": "stream",
     "text": [
      "2012-12-20 00:00:00\n"
     ]
    }
   ],
   "source": [
    "#string to date object\n",
    "from datetime import datetime\n",
    "\n",
    "dateString=\"12/20/2012\"\n",
    "d=datetime.strptime(dateString,\"%m/%d/%Y\")\n",
    "print(d)"
   ]
  },
  {
   "cell_type": "code",
   "execution_count": 38,
   "metadata": {},
   "outputs": [
    {
     "name": "stdout",
     "output_type": "stream",
     "text": [
      "2010-02-15 00:00:00\n",
      "15/02/2010\n",
      "2010-02-15 00:00:00\n",
      "15/02/2010/Mon\n"
     ]
    }
   ],
   "source": [
    "from dateutil.parser import parse\n",
    "dt=parse(\"Mon Feb 15 2010\")\n",
    "print(dt)\n",
    "print(dt.strftime('%d/%m/%Y'))\n",
    "\n",
    "\n",
    "from dateutil.parser import parse\n",
    "\n",
    "dt=parse(\"feb 15 2010\")\n",
    "print(dt)\n",
    "print(dt.strftime(\"%d/%m/%Y/%a\"))\n"
   ]
  },
  {
   "cell_type": "code",
   "execution_count": 36,
   "metadata": {},
   "outputs": [
    {
     "name": "stdout",
     "output_type": "stream",
     "text": [
      "2010-02-15 00:00:00\n"
     ]
    },
    {
     "data": {
      "text/plain": [
       "datetime.datetime(2010, 3, 2, 0, 0)"
      ]
     },
     "execution_count": 36,
     "metadata": {},
     "output_type": "execute_result"
    }
   ],
   "source": [
    "from datetime import timedelta\n",
    "print(dt)\n",
    "dt+timedelta(days=15)\n"
   ]
  },
  {
   "cell_type": "code",
   "execution_count": 41,
   "metadata": {},
   "outputs": [
    {
     "name": "stdout",
     "output_type": "stream",
     "text": [
      "06/01/2019/Sun\n"
     ]
    }
   ],
   "source": [
    "#separate the ind variable into date month and year components and display them x use dir()\n",
    "#ind=datetime(1947,8,15)\n",
    "\n",
    "from dateutil.parser import parse\n",
    "\n",
    "d=parse(\"jan 06 2019 \")\n",
    "print(d.strftime(\"%d/%m/%Y/%a\"))\n",
    "\n"
   ]
  },
  {
   "cell_type": "code",
   "execution_count": 6,
   "metadata": {},
   "outputs": [
    {
     "ename": "NameError",
     "evalue": "name 'datetime' is not defined",
     "output_type": "error",
     "traceback": [
      "\u001b[1;31m---------------------------------------------------------------------------\u001b[0m",
      "\u001b[1;31mNameError\u001b[0m                                 Traceback (most recent call last)",
      "\u001b[1;32m<ipython-input-6-21af56063da6>\u001b[0m in \u001b[0;36m<module>\u001b[1;34m\u001b[0m\n\u001b[0;32m      1\u001b[0m \u001b[1;31m#exception handling\u001b[0m\u001b[1;33m\u001b[0m\u001b[1;33m\u001b[0m\u001b[1;33m\u001b[0m\u001b[0m\n\u001b[1;32m----> 2\u001b[1;33m \u001b[0mdatetime\u001b[0m\u001b[1;33m.\u001b[0m\u001b[0mdate\u001b[0m\u001b[1;33m(\u001b[0m\u001b[1;36m1947\u001b[0m\u001b[1;33m,\u001b[0m\u001b[1;36m22\u001b[0m\u001b[1;33m,\u001b[0m\u001b[1;36m22\u001b[0m\u001b[1;33m)\u001b[0m\u001b[1;33m\u001b[0m\u001b[1;33m\u001b[0m\u001b[0m\n\u001b[0m",
      "\u001b[1;31mNameError\u001b[0m: name 'datetime' is not defined"
     ]
    }
   ],
   "source": [
    "#exception handling\n",
    "datetime.date(1947,22,22)"
   ]
  },
  {
   "cell_type": "code",
   "execution_count": 37,
   "metadata": {},
   "outputs": [
    {
     "ename": "ZeroDivisionError",
     "evalue": "division by zero",
     "output_type": "error",
     "traceback": [
      "\u001b[1;31m---------------------------------------------------------------------------\u001b[0m",
      "\u001b[1;31mZeroDivisionError\u001b[0m                         Traceback (most recent call last)",
      "\u001b[1;32m<ipython-input-37-86283d328b55>\u001b[0m in \u001b[0;36m<module>\u001b[1;34m\u001b[0m\n\u001b[1;32m----> 1\u001b[1;33m \u001b[0ma\u001b[0m\u001b[1;33m=\u001b[0m\u001b[1;36m0\u001b[0m\u001b[1;33m/\u001b[0m\u001b[1;36m0\u001b[0m\u001b[1;33m\u001b[0m\u001b[1;33m\u001b[0m\u001b[0m\n\u001b[0m",
      "\u001b[1;31mZeroDivisionError\u001b[0m: division by zero"
     ]
    }
   ],
   "source": [
    "a=0/0"
   ]
  },
  {
   "cell_type": "code",
   "execution_count": 20,
   "metadata": {},
   "outputs": [
    {
     "name": "stdout",
     "output_type": "stream",
     "text": [
      "0\n",
      "1\n",
      "1\n",
      "2\n",
      "3\n",
      "5\n",
      "8\n",
      "13\n",
      "21\n",
      "34\n",
      "55\n"
     ]
    }
   ],
   "source": [
    "a,b=0,1\n",
    "print(a)\n",
    "for _ in range(10):\n",
    "    print(b)\n",
    "    a,b=b,a+b\n",
    "    "
   ]
  },
  {
   "cell_type": "code",
   "execution_count": 9,
   "metadata": {},
   "outputs": [
    {
     "name": "stdout",
     "output_type": "stream",
     "text": [
      "[500, 501, 502, 503, 504, 505, 506, 507, 508, 509, 510, 511, 512, 513, 514, 515, 516, 517, 518, 519, 520, 521, 522, 523, 524, 525, 526, 527, 528, 529, 530, 531, 532, 533, 534, 535, 536, 537, 538, 539, 540, 541, 542, 543, 544, 545, 546, 547, 548, 549, 550, 551, 552, 553, 554, 555, 556, 557, 558, 559, 560, 561, 562, 563, 564, 565, 566, 567, 568, 569, 570, 571, 572, 573, 574, 575, 576, 577, 578, 579, 580, 581, 582, 583, 584, 585, 586, 587, 588, 589, 590, 591, 592, 593, 594, 595, 596, 597, 598, 599]\n"
     ]
    }
   ],
   "source": [
    "l=[]\n",
    "\n",
    "for i in range(100,999):\n",
    "    if i in range(500,600):\n",
    "        l.append(i)\n",
    "        l.sort()\n",
    "    \n",
    "print(l)"
   ]
  },
  {
   "cell_type": "code",
   "execution_count": 36,
   "metadata": {},
   "outputs": [
    {
     "name": "stdout",
     "output_type": "stream",
     "text": [
      "[301, 308, 322, 329, 336, 343, 357, 364, 371, 378, 392, 399]\n",
      "0\n",
      "1\n",
      "1\n",
      "2\n",
      "3\n",
      "4\n",
      "5\n",
      "6\n",
      "7\n",
      "8\n",
      "9\n",
      "10\n"
     ]
    }
   ],
   "source": [
    "\n",
    "\n",
    "\n",
    "def rr(start,end):\n",
    "    l=[]\n",
    "    for i in range(start,end):\n",
    "        if(i%7==0 and i%5!=0):\n",
    "            l.append(i)\n",
    "            l.sort()\n",
    "    print(l)\n",
    "\n",
    "rr(300,400)\n",
    "  \n",
    "    \n",
    "def rs(n):\n",
    "    a,b=0,1\n",
    "    print(a)\n",
    "    print(b)\n",
    "    for _ in range(n):\n",
    "        print(b)\n",
    "        a,b=b,b+1\n",
    "rs(10)\n",
    "        \n",
    "        \n",
    "  "
   ]
  },
  {
   "cell_type": "code",
   "execution_count": null,
   "metadata": {},
   "outputs": [],
   "source": [
    "import"
   ]
  }
 ],
 "metadata": {
  "kernelspec": {
   "display_name": "Python 3",
   "language": "python",
   "name": "python3"
  },
  "language_info": {
   "codemirror_mode": {
    "name": "ipython",
    "version": 3
   },
   "file_extension": ".py",
   "mimetype": "text/x-python",
   "name": "python",
   "nbconvert_exporter": "python",
   "pygments_lexer": "ipython3",
   "version": "3.7.3"
  }
 },
 "nbformat": 4,
 "nbformat_minor": 2
}
