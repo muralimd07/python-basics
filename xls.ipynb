{
 "cells": [
  {
   "cell_type": "code",
   "execution_count": 2,
   "metadata": {},
   "outputs": [],
   "source": [
    "from xlwt import Workbook\n",
    "\n",
    "# Workbook is created\n",
    "wb = Workbook()\n",
    "\n",
    "# add_sheet is used to create sheet.\n",
    "sheet1 = wb.add_sheet('Sheet 1')\n",
    "\n",
    "sheet1.write(1, 0, 'ISBT DEHRADUN')\n",
    "sheet1.write(2, 0, 'SHASTRADHARA')\n",
    "sheet1.write(3, 0, 'CLEMEN TOWN')\n",
    "sheet1.write(4, 0, 'RAJPUR ROAD')\n",
    "sheet1.write(5, 0, 'CLOCK TOWER')\n",
    "sheet1.write(0, 1, 'ISBT DEHRADUN')\n",
    "sheet1.write(0, 2, 'SHASTRADHARA')\n",
    "sheet1.write(0, 3, 'CLEMEN TOWN')\n",
    "sheet1.write(0, 4, 'RAJPUR ROAD')\n",
    "sheet1.write(0, 5, 'CLOCK TOWER')\n",
    "\n",
    "\n"
   ]
  },
  {
   "cell_type": "code",
   "execution_count": 3,
   "metadata": {},
   "outputs": [],
   "source": [
    "wb.save('xlwt example.xls')"
   ]
  }
 ],
 "metadata": {
  "kernelspec": {
   "display_name": "Python 3",
   "language": "python",
   "name": "python3"
  },
  "language_info": {
   "codemirror_mode": {
    "name": "ipython",
    "version": 3
   },
   "file_extension": ".py",
   "mimetype": "text/x-python",
   "name": "python",
   "nbconvert_exporter": "python",
   "pygments_lexer": "ipython3",
   "version": "3.7.3"
  }
 },
 "nbformat": 4,
 "nbformat_minor": 2
}
