{
 "cells": [
  {
   "cell_type": "code",
   "execution_count": 2,
   "metadata": {},
   "outputs": [],
   "source": [
    "#generators\n",
    "#generators are convenient way to build short-term single-usage iterator\n",
    "\n",
    "#they are lazy built only on deman\n",
    "#their values are not persisted\n",
    "#you can iterate through a generator only once\n",
    "#can't be accessed in-random"
   ]
  },
  {
   "cell_type": "code",
   "execution_count": 2,
   "metadata": {},
   "outputs": [],
   "source": [
    "#yield also like return statement but yield after come into a function return end func\n",
    "def my_range(n):\n",
    "    num=0\n",
    "    while num<n:\n",
    "        yield num\n",
    "        num+=1"
   ]
  },
  {
   "cell_type": "code",
   "execution_count": 6,
   "metadata": {},
   "outputs": [
    {
     "name": "stdout",
     "output_type": "stream",
     "text": [
      "<generator object my_range at 0x044FA2B0>\n",
      "0\n",
      "1\n",
      "2\n",
      "3\n",
      "4\n"
     ]
    }
   ],
   "source": [
    "x=my_range(5)\n",
    "print(x)\n",
    "\n",
    "for i in x:\n",
    "    print(i)"
   ]
  },
  {
   "cell_type": "code",
   "execution_count": 9,
   "metadata": {},
   "outputs": [
    {
     "name": "stdout",
     "output_type": "stream",
     "text": [
      "5\n"
     ]
    }
   ],
   "source": [
    "def sum(a,b):\n",
    "    c=a+b\n",
    "    yield c\n",
    "x=sum(1,4)\n",
    "for i in x:\n",
    "    print(i)"
   ]
  },
  {
   "cell_type": "code",
   "execution_count": 10,
   "metadata": {},
   "outputs": [],
   "source": [
    "import sys"
   ]
  },
  {
   "cell_type": "code",
   "execution_count": 11,
   "metadata": {},
   "outputs": [
    {
     "data": {
      "text/plain": [
       "64"
      ]
     },
     "execution_count": 11,
     "metadata": {},
     "output_type": "execute_result"
    }
   ],
   "source": [
    "sys.getsizeof(my_range(5))"
   ]
  },
  {
   "cell_type": "code",
   "execution_count": 12,
   "metadata": {},
   "outputs": [
    {
     "data": {
      "text/plain": [
       "68"
      ]
     },
     "execution_count": 12,
     "metadata": {},
     "output_type": "execute_result"
    }
   ],
   "source": [
    "sys.getsizeof(list(my_range(5)))"
   ]
  },
  {
   "cell_type": "code",
   "execution_count": 17,
   "metadata": {},
   "outputs": [
    {
     "data": {
      "text/plain": [
       "120"
      ]
     },
     "execution_count": 17,
     "metadata": {},
     "output_type": "execute_result"
    }
   ],
   "source": [
    "sys.getsizeof(my_range(1000))"
   ]
  },
  {
   "cell_type": "code",
   "execution_count": 19,
   "metadata": {},
   "outputs": [
    {
     "data": {
      "text/plain": [
       "8544"
      ]
     },
     "execution_count": 19,
     "metadata": {},
     "output_type": "execute_result"
    }
   ],
   "source": [
    "sys.getsizeof(list(my_range(1000)))"
   ]
  },
  {
   "cell_type": "code",
   "execution_count": 13,
   "metadata": {},
   "outputs": [
    {
     "data": {
      "text/plain": [
       "({1, 2, 3, 4, 5}, {2, 4, 6, 8, 10})"
      ]
     },
     "execution_count": 13,
     "metadata": {},
     "output_type": "execute_result"
    }
   ],
   "source": [
    "#sets\n",
    "\n",
    "a=set([1,2,3,4,5,5])\n",
    "b={2,4,6,8,10,2}\n",
    "\n",
    "a,b"
   ]
  },
  {
   "cell_type": "code",
   "execution_count": 14,
   "metadata": {},
   "outputs": [
    {
     "name": "stdout",
     "output_type": "stream",
     "text": [
      "{1, 2, 3, 4, 5}\n",
      "{2, 4, 6, 8, 10}\n"
     ]
    }
   ],
   "source": [
    "print(a)\n",
    "print(b)"
   ]
  },
  {
   "cell_type": "code",
   "execution_count": 31,
   "metadata": {},
   "outputs": [
    {
     "name": "stdout",
     "output_type": "stream",
     "text": [
      "a-b----> {1, 3, 5}\n",
      "a&b----> {2, 4}\n",
      "a|b----> {1, 2, 3, 4, 5, 6, 8, 10}\n",
      "a^b----> {1, 3, 5, 6, 8, 10}\n"
     ]
    }
   ],
   "source": [
    "print(f\"a-b----> {a-b}\")\n",
    "print(f\"a&b----> {a&b}\")\n",
    "print(f\"a|b----> {a|b}\")\n",
    "print(f\"a^b----> {a^b}\")\n"
   ]
  },
  {
   "cell_type": "code",
   "execution_count": 33,
   "metadata": {},
   "outputs": [
    {
     "ename": "TypeError",
     "evalue": "'set' object does not support indexing",
     "output_type": "error",
     "traceback": [
      "\u001b[1;31m---------------------------------------------------------------------------\u001b[0m",
      "\u001b[1;31mTypeError\u001b[0m                                 Traceback (most recent call last)",
      "\u001b[1;32m<ipython-input-33-e8dc61b0013f>\u001b[0m in \u001b[0;36m<module>\u001b[1;34m\u001b[0m\n\u001b[0;32m      1\u001b[0m \u001b[1;31m#single index does not show\u001b[0m\u001b[1;33m\u001b[0m\u001b[1;33m\u001b[0m\u001b[1;33m\u001b[0m\u001b[0m\n\u001b[1;32m----> 2\u001b[1;33m \u001b[0ma\u001b[0m\u001b[1;33m[\u001b[0m\u001b[1;36m0\u001b[0m\u001b[1;33m]\u001b[0m\u001b[1;33m\u001b[0m\u001b[1;33m\u001b[0m\u001b[0m\n\u001b[0m",
      "\u001b[1;31mTypeError\u001b[0m: 'set' object does not support indexing"
     ]
    }
   ],
   "source": [
    "#single index does not show\n",
    "a[0]"
   ]
  },
  {
   "cell_type": "code",
   "execution_count": 34,
   "metadata": {},
   "outputs": [],
   "source": [
    "#is it possible create tuples using range function\n",
    "\n",
    "#generate 50 random numbers(between 1 and 20) and add it to a list\n",
    "#remove duplicates and display only distinct values in the list\n",
    "\n"
   ]
  },
  {
   "cell_type": "code",
   "execution_count": 3,
   "metadata": {},
   "outputs": [
    {
     "name": "stdout",
     "output_type": "stream",
     "text": [
      "[3, 17, 3, 11, 12, 20, 9, 11, 20, 18, 5, 1, 1, 20, 20, 9, 8, 1, 14, 8, 18, 19, 10, 7, 18, 8, 18, 3, 7, 14, 10, 10, 3, 10, 12, 3, 4, 5, 9, 20, 14, 5, 11, 17, 12, 20, 16, 19, 5, 7]\n"
     ]
    }
   ],
   "source": [
    "import random\n",
    "a=[]\n",
    "for i in range(50):\n",
    "    a.append(random.randint(1,20))\n",
    "print(a)"
   ]
  },
  {
   "cell_type": "code",
   "execution_count": 4,
   "metadata": {},
   "outputs": [
    {
     "name": "stdout",
     "output_type": "stream",
     "text": [
      "{1, 3, 4, 5, 7, 8, 9, 10, 11, 12, 14, 16, 17, 18, 19, 20}\n",
      "{1, 3, 4, 5, 7, 8, 9, 10, 11, 12, 14, 16, 17, 18, 19, 20}\n"
     ]
    }
   ],
   "source": [
    "a=set(a)\n",
    "print(a)\n",
    "a=set(a)\n",
    "print(a)"
   ]
  },
  {
   "cell_type": "code",
   "execution_count": 1,
   "metadata": {},
   "outputs": [
    {
     "name": "stdout",
     "output_type": "stream",
     "text": [
      "Counter({'blue': 3, 'red': 2, 'green': 1})\n"
     ]
    }
   ],
   "source": [
    "#additional datastructure\n",
    "#collection library\n",
    "\n",
    "from collections import Counter\n",
    "\n",
    "colors=['red','blue','red','green','blue','blue']\n",
    "cnt=Counter(colors)\n",
    "print(cnt)\n"
   ]
  },
  {
   "cell_type": "code",
   "execution_count": 18,
   "metadata": {},
   "outputs": [
    {
     "ename": "AttributeError",
     "evalue": "'str' object has no attribute 'reverse'",
     "output_type": "error",
     "traceback": [
      "\u001b[1;31m---------------------------------------------------------------------------\u001b[0m",
      "\u001b[1;31mAttributeError\u001b[0m                            Traceback (most recent call last)",
      "\u001b[1;32m<ipython-input-18-9893f66703f3>\u001b[0m in \u001b[0;36m<module>\u001b[1;34m\u001b[0m\n\u001b[0;32m      4\u001b[0m \u001b[1;33m\u001b[0m\u001b[0m\n\u001b[0;32m      5\u001b[0m \u001b[1;32mfor\u001b[0m \u001b[0me\u001b[0m \u001b[1;32min\u001b[0m \u001b[0md\u001b[0m\u001b[1;33m:\u001b[0m\u001b[1;33m\u001b[0m\u001b[1;33m\u001b[0m\u001b[0m\n\u001b[1;32m----> 6\u001b[1;33m     \u001b[0mprint\u001b[0m\u001b[1;33m(\u001b[0m\u001b[0me\u001b[0m\u001b[1;33m.\u001b[0m\u001b[0mreverse\u001b[0m\u001b[1;33m(\u001b[0m\u001b[1;33m)\u001b[0m\u001b[1;33m)\u001b[0m\u001b[1;33m\u001b[0m\u001b[1;33m\u001b[0m\u001b[0m\n\u001b[0m\u001b[0;32m      7\u001b[0m \u001b[0mdir\u001b[0m\u001b[1;33m(\u001b[0m\u001b[0mdeque\u001b[0m\u001b[1;33m)\u001b[0m\u001b[1;33m\u001b[0m\u001b[1;33m\u001b[0m\u001b[0m\n\u001b[0;32m      8\u001b[0m \u001b[1;33m\u001b[0m\u001b[0m\n",
      "\u001b[1;31mAttributeError\u001b[0m: 'str' object has no attribute 'reverse'"
     ]
    }
   ],
   "source": [
    "from collections import deque\n",
    " \n",
    "d=deque(['sun','mon','tue','wed','thu','fri','sat'])\n",
    "\n",
    "for e in d:\n",
    "    print(e.upper())\n",
    "dir(deque)    \n",
    "    "
   ]
  },
  {
   "cell_type": "code",
   "execution_count": 54,
   "metadata": {},
   "outputs": [
    {
     "name": "stdout",
     "output_type": "stream",
     "text": [
      "poped value\n",
      "deque(['sun', 'mon', 'tue', 'wed', 'thu'])\n"
     ]
    }
   ],
   "source": [
    "print(\"poped value\")\n",
    "d.pop()\n",
    "print(d)"
   ]
  },
  {
   "cell_type": "code",
   "execution_count": 57,
   "metadata": {},
   "outputs": [
    {
     "name": "stdout",
     "output_type": "stream",
     "text": [
      "pushed value\n",
      "deque(['sun', 'mon', 'tue', 'wed', 'thu', 'leave', 'leave'])\n"
     ]
    }
   ],
   "source": [
    "print(\"pushed value\")\n",
    "d.append(\"leave\")\n",
    "print(d)"
   ]
  },
  {
   "cell_type": "code",
   "execution_count": 59,
   "metadata": {},
   "outputs": [
    {
     "name": "stdout",
     "output_type": "stream",
     "text": [
      "poping left value\n",
      "mon\n",
      "deque(['tue', 'wed', 'thu', 'leave', 'leave'])\n"
     ]
    }
   ],
   "source": [
    "print(\"poping left value\")\n",
    "print(d.popleft())\n",
    "print(d)"
   ]
  },
  {
   "cell_type": "code",
   "execution_count": 61,
   "metadata": {},
   "outputs": [
    {
     "name": "stdout",
     "output_type": "stream",
     "text": [
      "poping left value\n",
      "None\n",
      "deque(['holiday', 'holiday', 'tue', 'wed', 'thu', 'leave', 'leave'])\n"
     ]
    }
   ],
   "source": [
    "print(\"poping left value\")\n",
    "print(d.appendleft(\"holiday\"))\n",
    "print(d)"
   ]
  },
  {
   "cell_type": "code",
   "execution_count": 65,
   "metadata": {},
   "outputs": [
    {
     "name": "stdout",
     "output_type": "stream",
     "text": [
      "defaultdict(<class 'list'>, {'yellow': [1, 3], 'blue': [2, 4], 'red': [5]})\n"
     ]
    }
   ],
   "source": [
    "from collections import defaultdict\n",
    "\n",
    "s=[('yellow',1),('blue',2),('yellow',3),('blue',4),('red',5)]\n",
    "d=defaultdict(list)\n",
    "for k,v in s:\n",
    "    d[k].append(v)\n",
    "print(d)"
   ]
  },
  {
   "cell_type": "code",
   "execution_count": 69,
   "metadata": {},
   "outputs": [
    {
     "name": "stdout",
     "output_type": "stream",
     "text": [
      "33\n",
      "11 22\n"
     ]
    }
   ],
   "source": [
    "from collections import namedtuple\n",
    "point=namedtuple('point',['x','y'])\n",
    "p=point(11,y=22)\n",
    "print(p[0]+p[1])\n",
    "print(p.x,p.y)"
   ]
  },
  {
   "cell_type": "code",
   "execution_count": 3,
   "metadata": {},
   "outputs": [
    {
     "name": "stdout",
     "output_type": "stream",
     "text": [
      "enter stringmm\n",
      "Counter({'m': 2})\n",
      "m\n",
      "m\n"
     ]
    }
   ],
   "source": [
    "#get a string as input.\n",
    "#find the number of occureence of each character in the string\n",
    "a=input(\"enter string\")\n",
    "\n",
    "m=Counter(a)\n",
    "print(m)\n",
    "\n",
    "for i in a:\n",
    "    print(i)"
   ]
  },
  {
   "cell_type": "code",
   "execution_count": 8,
   "metadata": {},
   "outputs": [
    {
     "name": "stdout",
     "output_type": "stream",
     "text": [
      "['THIS', 'arun', 'IS', 'A', 'NEW', 'STRING', 'muralid', 'manikandan']\n",
      "[4, 4, 2, 1, 3, 6, 7, 10]\n",
      "defaultdict(<class 'list'>, {'THIS': [4], 'arun': [4], 'IS': [2], 'A': [1], 'NEW': [3], 'STRING': [6], 'muralid': [7], 'manikandan': [10]})\n"
     ]
    }
   ],
   "source": [
    "from collections import defaultdict\n",
    "l=[]\n",
    "k=[]\n",
    "a=\"THIS arun IS A NEW STRING muralid manikandan \"\n",
    "b=a.split()\n",
    "for i in b:\n",
    "    l.append(i)\n",
    "print(l)\n",
    "for i in l:\n",
    "    m=len(i)\n",
    "    k.append(m)\n",
    "print(k)\n",
    "d=defaultdict(list)\n",
    "for j,v in zip(l,k):\n",
    "    d[j].append(v)\n",
    "print(d)"
   ]
  },
  {
   "cell_type": "code",
   "execution_count": 21,
   "metadata": {},
   "outputs": [
    {
     "name": "stdout",
     "output_type": "stream",
     "text": [
      "[9, 10, 3, 2, 9, 5, 1, 9, 10, 2, 8, 9, 2, 4, 5, 3, 2, 2, 8, 7, 1, 1, 10, 9, 4, 7, 5, 1, 10, 9, 4, 2, 6, 10, 7, 4, 9, 1, 8, 1, 2, 6, 1, 5, 6, 8, 5, 7, 3, 9]\n"
     ]
    }
   ],
   "source": [
    "\n"
   ]
  },
  {
   "cell_type": "code",
   "execution_count": 4,
   "metadata": {},
   "outputs": [
    {
     "name": "stdout",
     "output_type": "stream",
     "text": [
      "defaultdict(<class 'list'>, {4: ['THIS', 'arun'], 2: ['IS'], 1: ['A'], 3: ['NEW'], 6: ['STRING'], 7: ['muralid'], 10: ['manikandan']})\n"
     ]
    }
   ],
   "source": [
    "from collections import defaultdict\n",
    "a=\"THIS arun IS A NEW STRING muralid manikandan \"\n",
    "d=defaultdict(list)\n",
    "b=a.split()\n",
    "for i in b:\n",
    "    s=len(i)\n",
    "    d[s].append(i)\n",
    "print(d)\n"
   ]
  },
  {
   "cell_type": "code",
   "execution_count": 4,
   "metadata": {},
   "outputs": [
    {
     "name": "stdout",
     "output_type": "stream",
     "text": [
      "[14, 12, 15, 4, 16, 15, 3, 4, 14, 2, 9, 3, 8, 8, 8, 5, 15, 14, 17, 19, 6, 18, 14, 17, 14, 4, 6, 18, 13, 15, 1, 6, 3, 20, 17, 1, 13, 15, 10, 11, 12, 15, 17, 20, 9, 2, 14, 4, 2, 20]\n"
     ]
    }
   ],
   "source": [
    "from random import random\n",
    "a=[]\n",
    "for i in range(50):\n",
    "    a.append(int(random()*20)+1)\n",
    "print(a)\n"
   ]
  },
  {
   "cell_type": "code",
   "execution_count": 6,
   "metadata": {},
   "outputs": [
    {
     "name": "stdout",
     "output_type": "stream",
     "text": [
      "[1, 2, 3, 4, 5, 6, 8, 9, 10, 11, 12, 13, 14, 15, 16, 17, 18, 19, 20]\n"
     ]
    }
   ],
   "source": [
    "b=[]\n",
    "for j in a:\n",
    "    if j not in b:\n",
    "        b.append(j)\n",
    "        b.sort()\n",
    "print(b)\n",
    "        \n",
    "        "
   ]
  },
  {
   "cell_type": "code",
   "execution_count": 23,
   "metadata": {},
   "outputs": [
    {
     "name": "stdout",
     "output_type": "stream",
     "text": [
      "['n', 'a', 'r', 'a', 'h', 'd', 'i', 'l', 'a', 'r', 'u', 'm']\n",
      "{'n': ['n', 'a', 'r', 'a', 'h', 'd', 'i', 'l', 'a', 'r', 'u', 'm'], 'a': ['n', 'a', 'r', 'a', 'h', 'd', 'i', 'l', 'a', 'r', 'u', 'm'], 'r': ['n', 'a', 'r', 'a', 'h', 'd', 'i', 'l', 'a', 'r', 'u', 'm'], 'h': ['n', 'a', 'r', 'a', 'h', 'd', 'i', 'l', 'a', 'r', 'u', 'm'], 'd': ['n', 'a', 'r', 'a', 'h', 'd', 'i', 'l', 'a', 'r', 'u', 'm'], 'i': ['n', 'a', 'r', 'a', 'h', 'd', 'i', 'l', 'a', 'r', 'u', 'm'], 'l': ['n', 'a', 'r', 'a', 'h', 'd', 'i', 'l', 'a', 'r', 'u', 'm'], 'u': ['n', 'a', 'r', 'a', 'h', 'd', 'i', 'l', 'a', 'r', 'u', 'm'], 'm': ['n', 'a', 'r', 'a', 'h', 'd', 'i', 'l', 'a', 'r', 'u', 'm']}\n"
     ]
    }
   ],
   "source": [
    "stri=\"muralidharan\"\n",
    "x=[]\n",
    "j=dict()\n",
    "m=(stri[::-1])\n",
    "\n",
    "for i in m:\n",
    "    x.append(i)\n",
    "    \n",
    "for o in m:\n",
    "    j[o]=x\n",
    "\n",
    "print(x)\n",
    "print(j)\n"
   ]
  },
  {
   "cell_type": "code",
   "execution_count": 58,
   "metadata": {},
   "outputs": [
    {
     "data": {
      "text/plain": [
       "5"
      ]
     },
     "execution_count": 58,
     "metadata": {},
     "output_type": "execute_result"
    }
   ],
   "source": [
    "\n",
    "def add():\n",
    "    b=3\n",
    "    c=a+b\n",
    "    return c\n",
    "add()\n"
   ]
  }
 ],
 "metadata": {
  "kernelspec": {
   "display_name": "Python 3",
   "language": "python",
   "name": "python3"
  },
  "language_info": {
   "codemirror_mode": {
    "name": "ipython",
    "version": 3
   },
   "file_extension": ".py",
   "mimetype": "text/x-python",
   "name": "python",
   "nbconvert_exporter": "python",
   "pygments_lexer": "ipython3",
   "version": "3.7.3"
  }
 },
 "nbformat": 4,
 "nbformat_minor": 2
}
