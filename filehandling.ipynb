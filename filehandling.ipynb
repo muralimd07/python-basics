{
 "cells": [
  {
   "cell_type": "code",
   "execution_count": 10,
   "metadata": {},
   "outputs": [
    {
     "name": "stdout",
     "output_type": "stream",
     "text": [
      "this is a file \n",
      "it has many lins \n",
      "this is one of the lnes\n",
      "this is another line\n",
      "this is end \n",
      "this is a new line 1\n",
      "this is a new line 11\n",
      "this is a new line 11\n",
      " easy\n",
      "this is a new line 11\n",
      " easy\n",
      "this is a file \n",
      "it has many lins \n",
      "this is one of the lnes\n",
      "this is another line\n",
      "this is end \n",
      "this is a new line 1\n",
      "this is a new line 11\n",
      "this is a new line 11\n",
      " easy\n",
      "this is a new line 11\n",
      " easy\n"
     ]
    }
   ],
   "source": [
    "filename=\"file.txt\"\n",
    "f=open(filename,\"r\")\n",
    "content=f.read()\n",
    "f.close()\n",
    "\n",
    "print(content)\n",
    "s=open(filename,'r')\n",
    "f=s.read()\n",
    "print(f)"
   ]
  },
  {
   "cell_type": "code",
   "execution_count": 7,
   "metadata": {},
   "outputs": [
    {
     "name": "stdout",
     "output_type": "stream",
     "text": [
      "this is a file \n",
      "it has many lins \n",
      "this is one of the lnes\n",
      "this is another line\n",
      "this is end \n",
      "this is a new line 1\n",
      "this is a new line 11\n",
      "this is a new line 11\n",
      " easy\n",
      "this is a new line 11\n",
      " easy\n"
     ]
    }
   ],
   "source": [
    "filename=\"file.txt\"\n",
    "with open(filename,\"r\") as f:\n",
    "    content=f.read()\n",
    "print(content)\n",
    "\n"
   ]
  },
  {
   "cell_type": "code",
   "execution_count": 15,
   "metadata": {},
   "outputs": [
    {
     "name": "stdout",
     "output_type": "stream",
     "text": [
      "['this is a file \\n', 'it has many lins \\n', 'this is one of the lnes\\n', 'this is another line\\n', 'this is end \\n', 'this is a new line 1\\n', 'this is a new line 11\\n', 'this is a new line 11\\n', ' easy\\n', 'this is a new line 11\\n', ' easy']\n"
     ]
    }
   ],
   "source": [
    "filename=\"file.txt\"\n",
    "with open(filename,\"r\") as f:\n",
    "    content=f.readlines()\n",
    "print(content)\n",
    "\n",
    "\n"
   ]
  },
  {
   "cell_type": "code",
   "execution_count": 22,
   "metadata": {},
   "outputs": [
    {
     "name": "stdout",
     "output_type": "stream",
     "text": [
      "this is a file \n",
      "\n",
      "it has many lins \n",
      "\n",
      "this is one of the lnes\n",
      "\n",
      "this is another line\n",
      "\n",
      "this is end \n",
      "\n",
      "this is a new line 1\n",
      "\n",
      "this is a new line 11\n",
      "\n",
      "this is a new line 11\n",
      "\n",
      " easy\n",
      "\n",
      "this is a new line 11\n",
      "\n",
      " easy\n"
     ]
    }
   ],
   "source": [
    "filename=\"file.txt\"\n",
    "with open(filename,\"r\") as f:\n",
    "    for line in f:\n",
    "        print(line)\n",
    "        \n"
   ]
  },
  {
   "cell_type": "code",
   "execution_count": 24,
   "metadata": {},
   "outputs": [
    {
     "name": "stdout",
     "output_type": "stream",
     "text": [
      "0 this is a file \n",
      "\n",
      "1 it has many lins \n",
      "\n",
      "2 this is one of the lnes\n",
      "\n",
      "3 this is another line\n",
      "\n",
      "4 this is end \n",
      "\n",
      "5 this is a new line 1\n",
      "\n",
      "6 this is a new line 11\n",
      "\n",
      "7 this is a new line 11\n",
      "\n",
      "8  easy\n",
      "\n",
      "9 this is a new line 11\n",
      "\n",
      "10  easy\n"
     ]
    }
   ],
   "source": [
    "filename=\"file.txt\"\n",
    "with open(filename,\"r\") as f:\n",
    "    for i,line in enumerate(f):\n",
    "        print(i,line)\n",
    "        \n",
    "        "
   ]
  },
  {
   "cell_type": "code",
   "execution_count": 15,
   "metadata": {},
   "outputs": [
    {
     "name": "stdout",
     "output_type": "stream",
     "text": [
      "this is a file \n",
      "\n",
      "it has many lins \n",
      "\n",
      "this is one of the lnes\n",
      "\n",
      "this is another line\n",
      "\n",
      "this is end \n",
      "\n",
      "this is a new line 1\n",
      "\n",
      "this is a new line 11\n",
      "\n",
      "this is a new line 11\n",
      "\n",
      " easy\n",
      "\n",
      "this is a new line 11\n",
      "\n",
      " easy\n"
     ]
    }
   ],
   "source": [
    "filename=\"file.txt\"\n",
    "f=open(filename,'a')\n",
    "f.write(\"\\nthis is a new line 11\")\n",
    "f.close()\n",
    "\n",
    "with open(filename,'a') as m:\n",
    "    m.write(\"\\n easy\")\n",
    "    \n",
    "with open(filename,\"r\") as f:\n",
    "    for line in f:\n",
    "        print(line)"
   ]
  },
  {
   "cell_type": "code",
   "execution_count": 21,
   "metadata": {},
   "outputs": [
    {
     "data": {
      "text/plain": [
       "'hello'"
      ]
     },
     "execution_count": 21,
     "metadata": {},
     "output_type": "execute_result"
    }
   ],
   "source": [
    "#open the file sherlockholmes.txt\n",
    "# find the number of occurrences of sherlock, holmes, sherlock holmes and watson\n",
    "#-x- user lower() for accurate results\n",
    "#-x- think about the correct data structure to be used for storing the result\n",
    "\"HELLO\".lower()\n",
    "\n"
   ]
  },
  {
   "cell_type": "code",
   "execution_count": 1,
   "metadata": {},
   "outputs": [
    {
     "name": "stdout",
     "output_type": "stream",
     "text": [
      "102\n",
      "467\n",
      "81\n",
      "96\n"
     ]
    }
   ],
   "source": [
    "\n",
    "filename=\"SherlockHolmes.txt\"\n",
    "with open(filename,'r') as f:\n",
    "    content=f.read().lower()\n",
    "    s=content.count(\"sherlock\")\n",
    "    t=content.count(\"holmes\")\n",
    "    m=content.count(\"sherlock holmes\")\n",
    "    w=content.count(\"watson\")\n",
    "\n",
    "print(s)\n",
    "print(t)\n",
    "print(w)\n",
    "print(m)\n",
    "\n",
    "\n",
    "\n",
    "\n",
    "\n",
    "    \n",
    "    \n",
    "   "
   ]
  },
  {
   "cell_type": "code",
   "execution_count": null,
   "metadata": {},
   "outputs": [],
   "source": []
  }
 ],
 "metadata": {
  "kernelspec": {
   "display_name": "Python 3",
   "language": "python",
   "name": "python3"
  },
  "language_info": {
   "codemirror_mode": {
    "name": "ipython",
    "version": 3
   },
   "file_extension": ".py",
   "mimetype": "text/x-python",
   "name": "python",
   "nbconvert_exporter": "python",
   "pygments_lexer": "ipython3",
   "version": "3.7.3"
  }
 },
 "nbformat": 4,
 "nbformat_minor": 2
}
